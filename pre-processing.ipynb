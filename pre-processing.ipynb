{
 "cells": [
  {
   "cell_type": "code",
   "execution_count": 1,
   "metadata": {},
   "outputs": [],
   "source": [
    "import pandas as pd\n",
    "import numpy as np\n",
    "import json as js\n",
    "import os\n",
    "import time\n",
    "import pathlib\n",
    "import re\n",
    "import nltk\n",
    "from nltk.stem import WordNetLemmatizer\n",
    "from nltk.corpus import stopwords\n",
    "from wordcloud import WordCloud\n",
    "import matplotlib.pyplot as plt\n",
    "import string"
   ]
  },
  {
   "cell_type": "markdown",
   "metadata": {},
   "source": [
    "## Code to read original json text (Please Skip)"
   ]
  },
  {
   "cell_type": "code",
   "execution_count": 2,
   "metadata": {},
   "outputs": [],
   "source": [
    "# List of columnes to be retrieved from json\n",
    "columns_list = ['text', 'favorite_count', 'retweet_count','user.followers_count', 'user.friends_count', 'user.verified','user.created_at', 'created_at']"
   ]
  },
  {
   "cell_type": "code",
   "execution_count": 3,
   "metadata": {},
   "outputs": [],
   "source": [
    "def readJson(file):\n",
    "    # tweet contain non-rumor\n",
    "    if 'non-rumours' in file and 'source-tweet'in file:\n",
    "        label = 0\n",
    "    # tweet contain rumor\n",
    "    elif 'rumours' in file and 'source-tweet'in file:\n",
    "        label = 1\n",
    "    else:\n",
    "        label = -1\n",
    "    with open (file) as f:\n",
    "        try:\n",
    "            d = js.load(f)\n",
    "            df = pd.json_normalize(d)\n",
    "            df['label'] = label\n",
    "            df_final = df[columns_list]\n",
    "            df_final.insert(0,'label',label)\n",
    "        except:\n",
    "            empty_df = pd.DataFrame()\n",
    "            return empty_df\n",
    "    return df_final"
   ]
  },
  {
   "cell_type": "code",
   "execution_count": 4,
   "metadata": {},
   "outputs": [],
   "source": [
    "####Define Path of Data Folder#####\n",
    "root_path = str(pathlib.Path().absolute().parent)\n",
    "data_path='/Data/pheme-rnr-dataset/'\n",
    "folder_list = ['ferguson', 'charliehebdo', 'germanwings-crash', 'ottawashooting', 'sydneysiege']"
   ]
  },
  {
   "cell_type": "code",
   "execution_count": 5,
   "metadata": {},
   "outputs": [],
   "source": [
    "####Scan thru rumor folders####\n",
    "first = True\n",
    "for folder in folder_list:\n",
    "    for subdirs, dirs, files in os.walk(root_path+data_path+folder):\n",
    "        for file in files:\n",
    "            file_dir = str(os.path.join(subdirs, file))\n",
    "            df = readJson(file_dir)\n",
    "            if(df.empty != True ):\n",
    "                if first == True:\n",
    "                    if  df.label[0] != -1:\n",
    "                        tweets = df\n",
    "                        first = False\n",
    "                else:\n",
    "                    if df.label[0] != -1:\n",
    "                        tweets = tweets.append(df, ignore_index=True)"
   ]
  },
  {
   "cell_type": "code",
   "execution_count": 7,
   "metadata": {},
   "outputs": [],
   "source": [
    "tweets.to_csv('raw_train.csv')"
   ]
  },
  {
   "cell_type": "markdown",
   "metadata": {},
   "source": [
    "## Extract Train Tweets Data set (Please skip) ##"
   ]
  },
  {
   "cell_type": "code",
   "execution_count": 51,
   "metadata": {},
   "outputs": [],
   "source": [
    "data_path = '/Data/'\n",
    "date_list = ['2020-03-16', '2020-03-17','2020-03-18','2020-03-19','2020-03-20','2020-03-21','2020-03-22']\n",
    "file= ' Coronavirus Tweets.csv'\n",
    "test_df = pd.DataFrame()\n",
    "for date in date_list:\n",
    "    df = pd.read_csv(root_path+data_path+date+file)\n",
    "    df = df[df.country_code=='US'].sample(300, random_state=123)\n",
    "    test_df = test_df.append(df)"
   ]
  },
  {
   "cell_type": "code",
   "execution_count": 52,
   "metadata": {},
   "outputs": [],
   "source": [
    "# Adjust columne name in train data\n",
    "test_data = pd.DataFrame()\n",
    "test_data['label'] = ''\n",
    "test_data['text'] = test_df['text']\n",
    "test_data['favorite_count'] = test_df['favourites_count']\n",
    "test_data['retweet_count'] = test_df['retweet_count']\n",
    "test_data['user.followers_count'] = test_df['followers_count']\n",
    "test_data['user.friends_count'] = test_df['friends_count']\n",
    "test_data['user.verified'] = test_df['verified']\n",
    "test_data['user.created_at'] = test_df['account_created_at']\n",
    "test_data['created_at'] = test_df['created_at']"
   ]
  },
  {
   "cell_type": "code",
   "execution_count": 74,
   "metadata": {},
   "outputs": [],
   "source": [
    "test_data.to_csv('raw_test.csv')"
   ]
  },
  {
   "cell_type": "markdown",
   "metadata": {},
   "source": [
    "# Processing Code Start Here "
   ]
  },
  {
   "cell_type": "code",
   "execution_count": 2,
   "metadata": {},
   "outputs": [],
   "source": [
    "tweets = pd.read_csv('raw_train.csv') # read raw training data\n",
    "test_data = pd.read_csv('raw_test.csv') # read raw test data"
   ]
  },
  {
   "cell_type": "code",
   "execution_count": 3,
   "metadata": {},
   "outputs": [
    {
     "data": {
      "text/plain": [
       "(5802, 10)"
      ]
     },
     "execution_count": 3,
     "metadata": {},
     "output_type": "execute_result"
    }
   ],
   "source": [
    "tweets.shape"
   ]
  },
  {
   "cell_type": "code",
   "execution_count": 4,
   "metadata": {},
   "outputs": [
    {
     "name": "stderr",
     "output_type": "stream",
     "text": [
      "[nltk_data] Downloading package averaged_perceptron_tagger to\n",
      "[nltk_data]     /Users/liaowenhao/nltk_data...\n",
      "[nltk_data]   Package averaged_perceptron_tagger is already up-to-\n",
      "[nltk_data]       date!\n",
      "[nltk_data] Downloading package wordnet to\n",
      "[nltk_data]     /Users/liaowenhao/nltk_data...\n",
      "[nltk_data]   Package wordnet is already up-to-date!\n",
      "[nltk_data] Downloading package punkt to\n",
      "[nltk_data]     /Users/liaowenhao/nltk_data...\n",
      "[nltk_data]   Package punkt is already up-to-date!\n",
      "[nltk_data] Downloading package stopwords to\n",
      "[nltk_data]     /Users/liaowenhao/nltk_data...\n",
      "[nltk_data]   Package stopwords is already up-to-date!\n"
     ]
    },
    {
     "data": {
      "text/plain": [
       "True"
      ]
     },
     "execution_count": 4,
     "metadata": {},
     "output_type": "execute_result"
    }
   ],
   "source": [
    "nltk.download('averaged_perceptron_tagger')\n",
    "nltk.download('wordnet')\n",
    "nltk.download('punkt')\n",
    "nltk.download('stopwords')"
   ]
  },
  {
   "cell_type": "code",
   "execution_count": 5,
   "metadata": {},
   "outputs": [],
   "source": [
    "## remove url link from text\n",
    "def remove_url(text):\n",
    "    n_text = re.sub(r'http\\S+', '', text, flags=re.MULTILINE)\n",
    "    return n_text\n",
    "\n",
    "## count url links\n",
    "def cnt_url(text):\n",
    "    return len(re.findall(r'http\\S+', text, flags=re.MULTILINE))"
   ]
  },
  {
   "cell_type": "code",
   "execution_count": 6,
   "metadata": {},
   "outputs": [],
   "source": [
    "def find_pos(word):\n",
    "    # Part of Speech constants\n",
    "    # ADJ, ADJ_SAT, ADV, NOUN, VERB = 'a', 's', 'r', 'n', 'v'\n",
    "    pos= nltk.pos_tag(nltk.word_tokenize(word))[0][1]\n",
    "    # Adjective tags -'JJ', 'JJR', 'JJS'\n",
    "    if pos.lower()[0] == 'j':\n",
    "        return 'a'\n",
    "    # Adverb tags -'RB', 'RBR', 'RBS'\n",
    "    elif pos.lower()[0] == 'r':\n",
    "        return 'r'\n",
    "    # Verb tags -'VB', 'VBD', 'VBG', 'VBN', 'VBP', 'VBZ'\n",
    "    elif pos.lower()[0] == 'v':\n",
    "        return 'v'\n",
    "    # Noun tags -'NN', 'NNS', 'NNP', 'NNPS'\n",
    "    else:\n",
    "        return 'n'\n",
    "\n",
    "def words_lemmatizer(text, encoding=\"utf8\"):\n",
    "    words = nltk.word_tokenize(text)\n",
    "    lemma_words = []\n",
    "    wl= WordNetLemmatizer()\n",
    "    for word in words:\n",
    "        pos= find_pos(word)\n",
    "        lemma_words.append(wl.lemmatize(word, pos))\n",
    "    return \" \".join(lemma_words)"
   ]
  },
  {
   "cell_type": "code",
   "execution_count": 7,
   "metadata": {},
   "outputs": [],
   "source": [
    "def remove_stopwords(text, lang='english'):\n",
    "    words = nltk.word_tokenize(text)\n",
    "    lang_stopwords = stopwords.words(lang)\n",
    "    stopwords_removed = [w for w in words if w.lower() not in lang_stopwords]\n",
    "    return \" \".join(stopwords_removed)"
   ]
  },
  {
   "cell_type": "code",
   "execution_count": 8,
   "metadata": {},
   "outputs": [],
   "source": [
    "def remove_unwanted(text):\n",
    "    lower_text = text.lower()\n",
    "    \n",
    "    remove_unwanted_charectors = re.sub(r'[^a-zA-Z0-9_#@&\\s]', ' ', lower_text) # Remove unwated charectors like punctuations andnon ascii \n",
    "    remove_unwanted_charectors = re.sub(r'&[\\w]+', ' ', remove_unwanted_charectors) # Remove &amp, *&words etc\n",
    "    \n",
    "    removed_extra_space = re.sub(r'\\s+',' ', remove_unwanted_charectors) # Remove extra white_spaces\n",
    "    \n",
    "    extract_hash = re.findall(r'#[\\w]+', removed_extra_space) # Extract #hashTags\n",
    "    extract_has_joined = \" \".join(extract_hash)\n",
    "    removed_hash_text = re.sub(r'#[\\w]+', '', removed_extra_space) # Remove #hastags\n",
    "    \n",
    "    remove_atrate = re.findall(r'@[\\w]+', removed_hash_text) # Extract @Users\n",
    "    count = len(remove_atrate)\n",
    "    removed_atrate = re.sub(r'@[\\w]+', '', removed_hash_text) # Remove @Users\n",
    "    \n",
    "    return removed_atrate\n",
    "    "
   ]
  },
  {
   "cell_type": "code",
   "execution_count": 9,
   "metadata": {},
   "outputs": [],
   "source": [
    "# Compute text length and avg word length\n",
    "def text_len(text):\n",
    "    text = remove_url(text)\n",
    "    text = remove_unwanted(text)\n",
    "    words = nltk.word_tokenize(text)\n",
    "    # Compute total length\n",
    "    return len(words)\n",
    "\n",
    "def avg_word_len(text):\n",
    "    text = remove_url(text)\n",
    "    text = remove_unwanted(text)\n",
    "    words = nltk.word_tokenize(text)\n",
    "    # avg word length\n",
    "    return round(np.average([len(word) for word in words])) "
   ]
  },
  {
   "cell_type": "code",
   "execution_count": 10,
   "metadata": {},
   "outputs": [],
   "source": [
    "def cnt_url(text):\n",
    "    return len(re.findall(r'http\\S+', text, flags=re.MULTILINE))"
   ]
  },
  {
   "cell_type": "code",
   "execution_count": 11,
   "metadata": {},
   "outputs": [],
   "source": [
    "# Count punctuation\n",
    "def cnt_punctuation(text):\n",
    "    return len(re.findall(r'[!.?\\-\",]', text))"
   ]
  },
  {
   "cell_type": "code",
   "execution_count": 12,
   "metadata": {},
   "outputs": [],
   "source": [
    "def compute_age(time1, time2):\n",
    "    delta = pd.to_datetime(time1) - pd.to_datetime(time2)\n",
    "    return round(delta.days/365, 2)"
   ]
  },
  {
   "cell_type": "code",
   "execution_count": 13,
   "metadata": {},
   "outputs": [],
   "source": [
    "# Process tweets\n",
    "def process_tweet(tweets):\n",
    "    new_tweets = tweets\n",
    "    new_tweets.insert(2,'original', tweets['text'])\n",
    "    new_tweets['txt_len'] = tweets['text'].apply(text_len) \n",
    "    new_tweets['avg_wrd_length'] = tweets['text'].apply(avg_word_len)\n",
    "    new_tweets['url_cnt'] = tweets['text'].apply(cnt_url)\n",
    "    new_tweets['text'] = tweets['text'].apply(remove_url)\n",
    "    new_tweets['puncutaion_cnt'] = tweets['text'].apply(cnt_punctuation)\n",
    "    new_tweets['text'] = new_tweets['text'].apply(remove_unwanted)\n",
    "    new_tweets['text'] = new_tweets['text'].apply(remove_stopwords)\n",
    "    new_tweets['text'] = new_tweets['text'].apply(words_lemmatizer)\n",
    "    new_tweets['tweet_age'] = new_tweets.apply(lambda x: compute_age(x['created_at'], x['user.created_at']), axis=1)\n",
    "    \n",
    "    return new_tweets"
   ]
  },
  {
   "cell_type": "code",
   "execution_count": 14,
   "metadata": {},
   "outputs": [],
   "source": [
    "df = process_tweet(tweets)\n",
    "df = df[df.columns[1:]]"
   ]
  },
  {
   "cell_type": "code",
   "execution_count": 15,
   "metadata": {},
   "outputs": [
    {
     "name": "stderr",
     "output_type": "stream",
     "text": [
      "/Users/liaowenhao/opt/anaconda3/lib/python3.7/site-packages/numpy/lib/function_base.py:393: RuntimeWarning: Mean of empty slice.\n",
      "  avg = a.mean(axis)\n"
     ]
    }
   ],
   "source": [
    "test = process_tweet(test_data)"
   ]
  },
  {
   "cell_type": "code",
   "execution_count": 16,
   "metadata": {},
   "outputs": [],
   "source": [
    "# ouput train processed data\n",
    "df.to_csv('train.csv', index=False)"
   ]
  },
  {
   "cell_type": "code",
   "execution_count": 17,
   "metadata": {},
   "outputs": [],
   "source": [
    "# ouput test processed data\n",
    "test.to_csv('test.csv', index=False)"
   ]
  },
  {
   "cell_type": "markdown",
   "metadata": {},
   "source": [
    "### Data Exploration ###"
   ]
  },
  {
   "cell_type": "code",
   "execution_count": 18,
   "metadata": {},
   "outputs": [],
   "source": [
    "import matplotlib\n",
    "import matplotlib.pyplot as plt\n",
    "import numpy as np"
   ]
  },
  {
   "cell_type": "code",
   "execution_count": 19,
   "metadata": {},
   "outputs": [],
   "source": [
    "tweets = pd.read_csv('EDA_analysis.csv')"
   ]
  },
  {
   "cell_type": "code",
   "execution_count": 20,
   "metadata": {},
   "outputs": [],
   "source": [
    "# data for each event\n",
    "ferguson_df = tweets[tweets.event == 'ferguson']\n",
    "charliehebdo_df = tweets[tweets.event == 'charliehebdo']\n",
    "germanwings_crash_df = tweets[tweets.event == 'germanwings-crash']\n",
    "ottawashooting_df = tweets[tweets.event == 'ottawashooting']\n",
    "sydneysiege_df = tweets[tweets.event == 'sydneysiege']\n",
    "# dictionary for event data\n",
    "data = { \n",
    "    'ferguson':ferguson_df,\n",
    "    'charliehebdo':charliehebdo_df,\n",
    "    'germanwings_crash':germanwings_crash_df,\n",
    "    'ottawashooting':ottawashooting_df,\n",
    "    'sydneysiege':sydneysiege_df,\n",
    "}"
   ]
  },
  {
   "cell_type": "code",
   "execution_count": 22,
   "metadata": {},
   "outputs": [
    {
     "data": {
      "image/png": "[encoded data removed]",
      "text/plain": [
       "<Figure size 504x360 with 1 Axes>"
      ]
     },
     "metadata": {
      "needs_background": "light"
     },
     "output_type": "display_data"
    }
   ],
   "source": [
    "# Distribution of each event\n",
    "labels = ['ferguson', 'charliehebdo', 'germanwings-crash', 'ottawashooting', 'sydneysiege']\n",
    "rumour_cnt = [len(data[event][data[event].label==1].label) for event in data.keys()]\n",
    "non_rumour_cnt = [len(data[event][data[event].label==0].label) for event in data.keys()]\n",
    "\n",
    "# Plot in pyplot\n",
    "x = np.arange(len(labels))\n",
    "width = 0.35\n",
    "\n",
    "fig, ax = plt.subplots(figsize = (7,5))\n",
    "rects1 = ax.bar(x - width/2, rumour_cnt, width, label='rumour_cnt')\n",
    "rects2 = ax.bar(x + width/2, non_rumour_cnt, width, label='non_rumour_cnt')\n",
    "\n",
    "ax.set_ylabel('Count')\n",
    "ax.set_title('Data for each event')\n",
    "ax.set_xticks(x)\n",
    "ax.set_xticklabels(labels)\n",
    "for tick in ax.get_xticklabels():\n",
    "    tick.set_rotation(45)\n",
    "ax.legend()\n",
    "\n",
    "def autolabel(rects):\n",
    "    \"\"\"Attach a text label above each bar in *rects*, displaying its height.\"\"\"\n",
    "    for rect in rects:\n",
    "        height = rect.get_height()\n",
    "        ax.annotate('{}'.format(height),\n",
    "                    xy=(rect.get_x() + rect.get_width() / 2, height),\n",
    "                    xytext=(0, 3),  # 3 points vertical offset\n",
    "                    textcoords=\"offset points\",\n",
    "                    ha='center', va='bottom')\n",
    "\n",
    "\n",
    "autolabel(rects1)\n",
    "autolabel(rects2)\n",
    "\n",
    "fig.tight_layout()\n",
    "\n",
    "plt.show()"
   ]
  },
  {
   "cell_type": "code",
   "execution_count": 23,
   "metadata": {},
   "outputs": [],
   "source": [
    "final_df = df"
   ]
  },
  {
   "cell_type": "code",
   "execution_count": 24,
   "metadata": {},
   "outputs": [
    {
     "data": {
      "text/plain": [
       "Text(0.5, 0, 'non_rumour')"
      ]
     },
     "execution_count": 24,
     "metadata": {},
     "output_type": "execute_result"
    },
    {
     "data": {
      "image/png": "[encoded data removed]",
      "text/plain": [
       "<Figure size 864x288 with 2 Axes>"
      ]
     },
     "metadata": {
      "needs_background": "light"
     },
     "output_type": "display_data"
    }
   ],
   "source": [
    "# Average text Length information for rumor and non-rumor, box plot\n",
    "txt_len_r = final_df.txt_len[final_df.label==1]\n",
    "txt_len_nr = final_df.txt_len[final_df.label==0]\n",
    "# Multiple box plots on one Axes\n",
    "fig, ax = plt.subplots(1,2,figsize=(12,4))\n",
    "fig.suptitle('tweet average text length')\n",
    "ax[0].boxplot(txt_len_r)\n",
    "ax[0].set_xlabel('rumour')\n",
    "ax[1].boxplot(txt_len_nr)\n",
    "ax[1].set_xlabel('non_rumour')"
   ]
  },
  {
   "cell_type": "code",
   "execution_count": 25,
   "metadata": {},
   "outputs": [
    {
     "data": {
      "text/plain": [
       "Text(0.5, 0, 'non_rumour')"
      ]
     },
     "execution_count": 25,
     "metadata": {},
     "output_type": "execute_result"
    },
    {
     "data": {
      "image/png": "[encoded data removed]",
      "text/plain": [
       "<Figure size 864x288 with 2 Axes>"
      ]
     },
     "metadata": {
      "needs_background": "light"
     },
     "output_type": "display_data"
    }
   ],
   "source": [
    "# Average word length information for rumor and non-rumor, box plot\n",
    "wrd_len_r = final_df.avg_wrd_length[final_df.label==1]\n",
    "wrd_len_nr = final_df.avg_wrd_length[final_df.label==0]\n",
    "# Multiple box plots on one Axes\n",
    "fig, ax = plt.subplots(1,2,figsize=(12,4))\n",
    "fig.suptitle('tweet average word length')\n",
    "ax[0].boxplot(wrd_len_r)\n",
    "ax[0].set_xlabel('rumour')\n",
    "ax[1].boxplot(wrd_len_nr)\n",
    "ax[1].set_xlabel('non_rumour')"
   ]
  },
  {
   "cell_type": "code",
   "execution_count": 26,
   "metadata": {},
   "outputs": [
    {
     "data": {
      "text/plain": [
       "Text(0.5, 0, 'non_rumour')"
      ]
     },
     "execution_count": 26,
     "metadata": {},
     "output_type": "execute_result"
    },
    {
     "data": {
      "image/png": "[encoded data removed]",
      "text/plain": [
       "<Figure size 864x288 with 2 Axes>"
      ]
     },
     "metadata": {
      "needs_background": "light"
     },
     "output_type": "display_data"
    }
   ],
   "source": [
    "# Punctuation cnt\n",
    "url_r = final_df.url_cnt[final_df.label==1]\n",
    "url_nr = final_df.url_cnt[final_df.label==0]\n",
    "# Multiple box plots on one Axes\n",
    "fig, ax = plt.subplots(1,2,figsize=(12,4))\n",
    "fig.suptitle('url count')\n",
    "ax[0].boxplot(url_r)\n",
    "ax[0].set_xlabel('rumour')\n",
    "ax[1].boxplot(url_nr)\n",
    "ax[1].set_xlabel('non_rumour')"
   ]
  },
  {
   "cell_type": "code",
   "execution_count": 27,
   "metadata": {},
   "outputs": [
    {
     "data": {
      "text/plain": [
       "Text(0.5, 0, 'non_rumour')"
      ]
     },
     "execution_count": 27,
     "metadata": {},
     "output_type": "execute_result"
    },
    {
     "data": {
      "image/png": "[encoded data removed]",
      "text/plain": [
       "<Figure size 864x288 with 2 Axes>"
      ]
     },
     "metadata": {
      "needs_background": "light"
     },
     "output_type": "display_data"
    }
   ],
   "source": [
    "# Punctuation cnt\n",
    "fav_r = final_df.favorite_count[final_df.label==1]\n",
    "fav_nr = final_df.favorite_count[final_df.label==0]\n",
    "# Multiple box plots on one Axes\n",
    "fig, ax = plt.subplots(1,2,figsize=(12,4))\n",
    "fig.suptitle('favorite count')\n",
    "ax[0].boxplot(fav_r)\n",
    "ax[0].set_xlabel('rumour')\n",
    "ax[1].boxplot(fav_nr)\n",
    "ax[1].set_xlabel('non_rumour')"
   ]
  },
  {
   "cell_type": "code",
   "execution_count": null,
   "metadata": {},
   "outputs": [],
   "source": []
  }
 ],
 "metadata": {
  "kernelspec": {
   "display_name": "Python 3",
   "language": "python",
   "name": "python3"
  },
  "language_info": {
   "codemirror_mode": {
    "name": "ipython",
    "version": 3
   },
   "file_extension": ".py",
   "mimetype": "text/x-python",
   "name": "python",
   "nbconvert_exporter": "python",
   "pygments_lexer": "ipython3",
   "version": "3.7.4"
  }
 },
 "nbformat": 4,
 "nbformat_minor": 4
}
